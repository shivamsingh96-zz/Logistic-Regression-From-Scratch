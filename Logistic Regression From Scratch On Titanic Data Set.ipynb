{
 "cells": [
  {
   "cell_type": "code",
   "execution_count": 1,
   "metadata": {},
   "outputs": [
    {
     "name": "stderr",
     "output_type": "stream",
     "text": [
      "C:\\Users\\SHIVAM SINGH\\Anaconda3\\lib\\site-packages\\ipykernel\\parentpoller.py:116: UserWarning: Parent poll failed.  If the frontend dies,\n",
      "                the kernel may be left running.  Please let us know\n",
      "                about your system (bitness, Python, etc.) at\n",
      "                ipython-dev@scipy.org\n",
      "  ipython-dev@scipy.org\"\"\")\n"
     ]
    }
   ],
   "source": [
    "#Importing the libraries\n",
    "\n",
    "import numpy as np\n",
    "import pandas as pd\n",
    "import seaborn as sns\n",
    "import matplotlib.pyplot as plt\n",
    "% matplotlib inline\n",
    "import math"
   ]
  },
  {
   "cell_type": "code",
   "execution_count": 2,
   "metadata": {},
   "outputs": [
    {
     "data": {
      "text/html": [
       "<div>\n",
       "<style scoped>\n",
       "    .dataframe tbody tr th:only-of-type {\n",
       "        vertical-align: middle;\n",
       "    }\n",
       "\n",
       "    .dataframe tbody tr th {\n",
       "        vertical-align: top;\n",
       "    }\n",
       "\n",
       "    .dataframe thead th {\n",
       "        text-align: right;\n",
       "    }\n",
       "</style>\n",
       "<table border=\"1\" class=\"dataframe\">\n",
       "  <thead>\n",
       "    <tr style=\"text-align: right;\">\n",
       "      <th></th>\n",
       "      <th>Survived</th>\n",
       "      <th>Pclass</th>\n",
       "      <th>Name</th>\n",
       "      <th>Sex</th>\n",
       "      <th>Age</th>\n",
       "      <th>Siblings/Spouses Aboard</th>\n",
       "      <th>Parents/Children Aboard</th>\n",
       "      <th>Fare</th>\n",
       "    </tr>\n",
       "  </thead>\n",
       "  <tbody>\n",
       "    <tr>\n",
       "      <th>0</th>\n",
       "      <td>0</td>\n",
       "      <td>3</td>\n",
       "      <td>Mr. Owen Harris Braund</td>\n",
       "      <td>male</td>\n",
       "      <td>22.0</td>\n",
       "      <td>1</td>\n",
       "      <td>0</td>\n",
       "      <td>7.2500</td>\n",
       "    </tr>\n",
       "    <tr>\n",
       "      <th>1</th>\n",
       "      <td>1</td>\n",
       "      <td>1</td>\n",
       "      <td>Mrs. John Bradley (Florence Briggs Thayer) Cum...</td>\n",
       "      <td>female</td>\n",
       "      <td>38.0</td>\n",
       "      <td>1</td>\n",
       "      <td>0</td>\n",
       "      <td>71.2833</td>\n",
       "    </tr>\n",
       "    <tr>\n",
       "      <th>2</th>\n",
       "      <td>1</td>\n",
       "      <td>3</td>\n",
       "      <td>Miss. Laina Heikkinen</td>\n",
       "      <td>female</td>\n",
       "      <td>26.0</td>\n",
       "      <td>0</td>\n",
       "      <td>0</td>\n",
       "      <td>7.9250</td>\n",
       "    </tr>\n",
       "    <tr>\n",
       "      <th>3</th>\n",
       "      <td>1</td>\n",
       "      <td>1</td>\n",
       "      <td>Mrs. Jacques Heath (Lily May Peel) Futrelle</td>\n",
       "      <td>female</td>\n",
       "      <td>35.0</td>\n",
       "      <td>1</td>\n",
       "      <td>0</td>\n",
       "      <td>53.1000</td>\n",
       "    </tr>\n",
       "    <tr>\n",
       "      <th>4</th>\n",
       "      <td>0</td>\n",
       "      <td>3</td>\n",
       "      <td>Mr. William Henry Allen</td>\n",
       "      <td>male</td>\n",
       "      <td>35.0</td>\n",
       "      <td>0</td>\n",
       "      <td>0</td>\n",
       "      <td>8.0500</td>\n",
       "    </tr>\n",
       "  </tbody>\n",
       "</table>\n",
       "</div>"
      ],
      "text/plain": [
       "   Survived  Pclass                                               Name  \\\n",
       "0         0       3                             Mr. Owen Harris Braund   \n",
       "1         1       1  Mrs. John Bradley (Florence Briggs Thayer) Cum...   \n",
       "2         1       3                              Miss. Laina Heikkinen   \n",
       "3         1       1        Mrs. Jacques Heath (Lily May Peel) Futrelle   \n",
       "4         0       3                            Mr. William Henry Allen   \n",
       "\n",
       "      Sex   Age  Siblings/Spouses Aboard  Parents/Children Aboard     Fare  \n",
       "0    male  22.0                        1                        0   7.2500  \n",
       "1  female  38.0                        1                        0  71.2833  \n",
       "2  female  26.0                        0                        0   7.9250  \n",
       "3  female  35.0                        1                        0  53.1000  \n",
       "4    male  35.0                        0                        0   8.0500  "
      ]
     },
     "execution_count": 2,
     "metadata": {},
     "output_type": "execute_result"
    }
   ],
   "source": [
    "#Importing the Dataset\n",
    "\n",
    "Data = pd.read_csv(\"titanic.csv\")\n",
    "Data.head()"
   ]
  },
  {
   "cell_type": "code",
   "execution_count": 3,
   "metadata": {},
   "outputs": [
    {
     "name": "stdout",
     "output_type": "stream",
     "text": [
      "# of passengers in our data:887\n"
     ]
    }
   ],
   "source": [
    "print(\"# of passengers in our data:\" +str(len(Data.index)))"
   ]
  },
  {
   "cell_type": "markdown",
   "metadata": {},
   "source": [
    "## Analyzing Our Data"
   ]
  },
  {
   "cell_type": "code",
   "execution_count": 4,
   "metadata": {},
   "outputs": [
    {
     "data": {
      "text/plain": [
       "<matplotlib.axes._subplots.AxesSubplot at 0x1e83587d470>"
      ]
     },
     "execution_count": 4,
     "metadata": {},
     "output_type": "execute_result"
    },
    {
     "data": {
      "image/png": "[encoded data removed]",
      "text/plain": [
       "<Figure size 432x288 with 1 Axes>"
      ]
     },
     "metadata": {
      "needs_background": "light"
     },
     "output_type": "display_data"
    }
   ],
   "source": [
    "sns.countplot(x=\"Survived\", data=Data)"
   ]
  },
  {
   "cell_type": "code",
   "execution_count": 5,
   "metadata": {},
   "outputs": [
    {
     "data": {
      "text/plain": [
       "<matplotlib.axes._subplots.AxesSubplot at 0x1e835b586d8>"
      ]
     },
     "execution_count": 5,
     "metadata": {},
     "output_type": "execute_result"
    },
    {
     "data": {
      "image/png": "[encoded data removed]",
      "text/plain": [
       "<Figure size 432x288 with 1 Axes>"
      ]
     },
     "metadata": {
      "needs_background": "light"
     },
     "output_type": "display_data"
    }
   ],
   "source": [
    "sns.countplot(x=\"Survived\", hue = \"Sex\", data=Data)"
   ]
  },
  {
   "cell_type": "code",
   "execution_count": 6,
   "metadata": {},
   "outputs": [
    {
     "data": {
      "text/plain": [
       "<matplotlib.axes._subplots.AxesSubplot at 0x1e835bda4a8>"
      ]
     },
     "execution_count": 6,
     "metadata": {},
     "output_type": "execute_result"
    },
    {
     "data": {
      "image/png": "[encoded data removed]",
      "text/plain": [
       "<Figure size 432x288 with 1 Axes>"
      ]
     },
     "metadata": {
      "needs_background": "light"
     },
     "output_type": "display_data"
    }
   ],
   "source": [
    "sns.countplot(x=\"Survived\", hue = \"Pclass\", data=Data)"
   ]
  },
  {
   "cell_type": "code",
   "execution_count": 7,
   "metadata": {},
   "outputs": [
    {
     "data": {
      "text/plain": [
       "<matplotlib.axes._subplots.AxesSubplot at 0x1e836bf2f28>"
      ]
     },
     "execution_count": 7,
     "metadata": {},
     "output_type": "execute_result"
    },
    {
     "data": {
      "image/png": "[encoded data removed]",
      "text/plain": [
       "<Figure size 432x288 with 1 Axes>"
      ]
     },
     "metadata": {
      "needs_background": "light"
     },
     "output_type": "display_data"
    }
   ],
   "source": [
    "Data[\"Age\"].plot.hist()"
   ]
  },
  {
   "cell_type": "code",
   "execution_count": 8,
   "metadata": {},
   "outputs": [
    {
     "data": {
      "text/plain": [
       "<matplotlib.axes._subplots.AxesSubplot at 0x1e836bf8be0>"
      ]
     },
     "execution_count": 8,
     "metadata": {},
     "output_type": "execute_result"
    },
    {
     "data": {
      "image/png": "[encoded data removed]",
      "text/plain": [
       "<Figure size 720x360 with 1 Axes>"
      ]
     },
     "metadata": {
      "needs_background": "light"
     },
     "output_type": "display_data"
    }
   ],
   "source": [
    "Data[\"Fare\"].plot.hist(bins = 20 , figsize = (10,5))"
   ]
  },
  {
   "cell_type": "code",
   "execution_count": 9,
   "metadata": {},
   "outputs": [
    {
     "data": {
      "text/plain": [
       "<matplotlib.axes._subplots.AxesSubplot at 0x1e836d10080>"
      ]
     },
     "execution_count": 9,
     "metadata": {},
     "output_type": "execute_result"
    },
    {
     "data": {
      "image/png": "[encoded data removed]",
      "text/plain": [
       "<Figure size 432x288 with 1 Axes>"
      ]
     },
     "metadata": {
      "needs_background": "light"
     },
     "output_type": "display_data"
    }
   ],
   "source": [
    "sns.countplot(x=\"Siblings/Spouses Aboard\", data=Data)"
   ]
  },
  {
   "cell_type": "code",
   "execution_count": 10,
   "metadata": {},
   "outputs": [
    {
     "name": "stdout",
     "output_type": "stream",
     "text": [
      "<class 'pandas.core.frame.DataFrame'>\n",
      "RangeIndex: 887 entries, 0 to 886\n",
      "Data columns (total 8 columns):\n",
      "Survived                   887 non-null int64\n",
      "Pclass                     887 non-null int64\n",
      "Name                       887 non-null object\n",
      "Sex                        887 non-null object\n",
      "Age                        887 non-null float64\n",
      "Siblings/Spouses Aboard    887 non-null int64\n",
      "Parents/Children Aboard    887 non-null int64\n",
      "Fare                       887 non-null float64\n",
      "dtypes: float64(2), int64(4), object(2)\n",
      "memory usage: 55.5+ KB\n"
     ]
    }
   ],
   "source": [
    "Data.info()"
   ]
  },
  {
   "cell_type": "markdown",
   "metadata": {},
   "source": [
    "##  Data Wrangling"
   ]
  },
  {
   "cell_type": "code",
   "execution_count": 11,
   "metadata": {},
   "outputs": [
    {
     "data": {
      "text/plain": [
       "Survived                   0\n",
       "Pclass                     0\n",
       "Name                       0\n",
       "Sex                        0\n",
       "Age                        0\n",
       "Siblings/Spouses Aboard    0\n",
       "Parents/Children Aboard    0\n",
       "Fare                       0\n",
       "dtype: int64"
      ]
     },
     "execution_count": 11,
     "metadata": {},
     "output_type": "execute_result"
    }
   ],
   "source": [
    "Data.isnull().sum()"
   ]
  },
  {
   "cell_type": "code",
   "execution_count": 12,
   "metadata": {},
   "outputs": [
    {
     "data": {
      "text/plain": [
       "<matplotlib.axes._subplots.AxesSubplot at 0x1e836d8e748>"
      ]
     },
     "execution_count": 12,
     "metadata": {},
     "output_type": "execute_result"
    },
    {
     "data": {
      "image/png": "[encoded data removed]",
      "text/plain": [
       "<Figure size 432x288 with 1 Axes>"
      ]
     },
     "metadata": {
      "needs_background": "light"
     },
     "output_type": "display_data"
    }
   ],
   "source": [
    "sns.boxplot(x=\"Pclass\",y=\"Age\",data=Data)"
   ]
  },
  {
   "cell_type": "code",
   "execution_count": 13,
   "metadata": {},
   "outputs": [
    {
     "data": {
      "text/plain": [
       "<matplotlib.axes._subplots.AxesSubplot at 0x1e836e56dd8>"
      ]
     },
     "execution_count": 13,
     "metadata": {},
     "output_type": "execute_result"
    },
    {
     "data": {
      "image/png": "[encoded data removed]",
      "text/plain": [
       "<Figure size 432x288 with 1 Axes>"
      ]
     },
     "metadata": {
      "needs_background": "light"
     },
     "output_type": "display_data"
    }
   ],
   "source": [
    " sns.heatmap(Data.isnull(),yticklabels=False, cbar=False)"
   ]
  },
  {
   "cell_type": "code",
   "execution_count": 14,
   "metadata": {},
   "outputs": [],
   "source": [
    "ones = pd.DataFrame(np.ones((Data.shape[0],1)),columns=[\"bias\"]) # Adding Bias In Our Column"
   ]
  },
  {
   "cell_type": "code",
   "execution_count": 15,
   "metadata": {},
   "outputs": [],
   "source": [
    "Data = pd.concat([Data,ones],axis=1)"
   ]
  },
  {
   "cell_type": "code",
   "execution_count": 16,
   "metadata": {},
   "outputs": [],
   "source": [
    "Data = Data.drop(['Name','Sex'],axis=1)"
   ]
  },
  {
   "cell_type": "code",
   "execution_count": 17,
   "metadata": {},
   "outputs": [
    {
     "data": {
      "text/html": [
       "<div>\n",
       "<style scoped>\n",
       "    .dataframe tbody tr th:only-of-type {\n",
       "        vertical-align: middle;\n",
       "    }\n",
       "\n",
       "    .dataframe tbody tr th {\n",
       "        vertical-align: top;\n",
       "    }\n",
       "\n",
       "    .dataframe thead th {\n",
       "        text-align: right;\n",
       "    }\n",
       "</style>\n",
       "<table border=\"1\" class=\"dataframe\">\n",
       "  <thead>\n",
       "    <tr style=\"text-align: right;\">\n",
       "      <th></th>\n",
       "      <th>Survived</th>\n",
       "      <th>Pclass</th>\n",
       "      <th>Age</th>\n",
       "      <th>Siblings/Spouses Aboard</th>\n",
       "      <th>Parents/Children Aboard</th>\n",
       "      <th>Fare</th>\n",
       "      <th>bias</th>\n",
       "    </tr>\n",
       "  </thead>\n",
       "  <tbody>\n",
       "    <tr>\n",
       "      <th>0</th>\n",
       "      <td>0</td>\n",
       "      <td>3</td>\n",
       "      <td>22.0</td>\n",
       "      <td>1</td>\n",
       "      <td>0</td>\n",
       "      <td>7.2500</td>\n",
       "      <td>1.0</td>\n",
       "    </tr>\n",
       "    <tr>\n",
       "      <th>1</th>\n",
       "      <td>1</td>\n",
       "      <td>1</td>\n",
       "      <td>38.0</td>\n",
       "      <td>1</td>\n",
       "      <td>0</td>\n",
       "      <td>71.2833</td>\n",
       "      <td>1.0</td>\n",
       "    </tr>\n",
       "    <tr>\n",
       "      <th>2</th>\n",
       "      <td>1</td>\n",
       "      <td>3</td>\n",
       "      <td>26.0</td>\n",
       "      <td>0</td>\n",
       "      <td>0</td>\n",
       "      <td>7.9250</td>\n",
       "      <td>1.0</td>\n",
       "    </tr>\n",
       "    <tr>\n",
       "      <th>3</th>\n",
       "      <td>1</td>\n",
       "      <td>1</td>\n",
       "      <td>35.0</td>\n",
       "      <td>1</td>\n",
       "      <td>0</td>\n",
       "      <td>53.1000</td>\n",
       "      <td>1.0</td>\n",
       "    </tr>\n",
       "    <tr>\n",
       "      <th>4</th>\n",
       "      <td>0</td>\n",
       "      <td>3</td>\n",
       "      <td>35.0</td>\n",
       "      <td>0</td>\n",
       "      <td>0</td>\n",
       "      <td>8.0500</td>\n",
       "      <td>1.0</td>\n",
       "    </tr>\n",
       "  </tbody>\n",
       "</table>\n",
       "</div>"
      ],
      "text/plain": [
       "   Survived  Pclass   Age  Siblings/Spouses Aboard  Parents/Children Aboard  \\\n",
       "0         0       3  22.0                        1                        0   \n",
       "1         1       1  38.0                        1                        0   \n",
       "2         1       3  26.0                        0                        0   \n",
       "3         1       1  35.0                        1                        0   \n",
       "4         0       3  35.0                        0                        0   \n",
       "\n",
       "      Fare  bias  \n",
       "0   7.2500   1.0  \n",
       "1  71.2833   1.0  \n",
       "2   7.9250   1.0  \n",
       "3  53.1000   1.0  \n",
       "4   8.0500   1.0  "
      ]
     },
     "execution_count": 17,
     "metadata": {},
     "output_type": "execute_result"
    }
   ],
   "source": [
    "Data.head()"
   ]
  },
  {
   "cell_type": "markdown",
   "metadata": {},
   "source": [
    "### Training Our Data"
   ]
  },
  {
   "cell_type": "code",
   "execution_count": 18,
   "metadata": {},
   "outputs": [],
   "source": [
    "X = Data.drop(['Survived'],axis=1)"
   ]
  },
  {
   "cell_type": "code",
   "execution_count": 19,
   "metadata": {},
   "outputs": [],
   "source": [
    "y = Data['Survived']"
   ]
  },
  {
   "cell_type": "code",
   "execution_count": 20,
   "metadata": {},
   "outputs": [],
   "source": [
    "y = np.array(y)"
   ]
  },
  {
   "cell_type": "code",
   "execution_count": 21,
   "metadata": {},
   "outputs": [
    {
     "data": {
      "text/plain": [
       "(887, 6)"
      ]
     },
     "execution_count": 21,
     "metadata": {},
     "output_type": "execute_result"
    }
   ],
   "source": [
    "X.shape"
   ]
  },
  {
   "cell_type": "code",
   "execution_count": 22,
   "metadata": {},
   "outputs": [
    {
     "data": {
      "text/plain": [
       "(887,)"
      ]
     },
     "execution_count": 22,
     "metadata": {},
     "output_type": "execute_result"
    }
   ],
   "source": [
    "y.shape"
   ]
  },
  {
   "cell_type": "markdown",
   "metadata": {},
   "source": [
    "### Spliting Our Data"
   ]
  },
  {
   "cell_type": "code",
   "execution_count": 23,
   "metadata": {},
   "outputs": [
    {
     "name": "stderr",
     "output_type": "stream",
     "text": [
      "C:\\Users\\SHIVAM SINGH\\Anaconda3\\lib\\site-packages\\sklearn\\cross_validation.py:41: DeprecationWarning: This module was deprecated in version 0.18 in favor of the model_selection module into which all the refactored classes and functions are moved. Also note that the interface of the new CV iterators are different from that of this module. This module will be removed in 0.20.\n",
      "  \"This module will be removed in 0.20.\", DeprecationWarning)\n"
     ]
    }
   ],
   "source": [
    "from sklearn.cross_validation import train_test_split"
   ]
  },
  {
   "cell_type": "code",
   "execution_count": 24,
   "metadata": {},
   "outputs": [],
   "source": [
    "X_train, X_test, y_train, y_test = train_test_split(X, y, test_size=0.25, random_state=1)"
   ]
  },
  {
   "cell_type": "code",
   "execution_count": 25,
   "metadata": {},
   "outputs": [
    {
     "data": {
      "text/plain": [
       "((665, 6), (222, 6), (665,), (222,))"
      ]
     },
     "execution_count": 25,
     "metadata": {},
     "output_type": "execute_result"
    }
   ],
   "source": [
    "X_train.shape, X_test.shape, y_train.shape, y_test.shape"
   ]
  },
  {
   "cell_type": "markdown",
   "metadata": {},
   "source": [
    "## Now The Maths Of Our Logistic Regression Start"
   ]
  },
  {
   "cell_type": "markdown",
   "metadata": {},
   "source": [
    "## Hypothesis"
   ]
  },
  {
   "cell_type": "markdown",
   "metadata": {},
   "source": [
    "$$h_\\theta(x) = g(\\theta^T.x) $$\n",
    "\n",
    "$$ Z = \\theta^T.x $$\n",
    "                            \n",
    "$$ g(Z) = \\frac{1}{1+e^{-Z}} $$"
   ]
  },
  {
   "cell_type": "markdown",
   "metadata": {},
   "source": [
    "## Sigmoid Function"
   ]
  },
  {
   "cell_type": "markdown",
   "metadata": {},
   "source": [
    "$$ Sigmoid  Function = \\frac{1}{1+e^{-Z}}$$"
   ]
  },
  {
   "cell_type": "code",
   "execution_count": 26,
   "metadata": {},
   "outputs": [],
   "source": [
    "def sigmoid(Z):\n",
    "    return 1/(1+np.exp(-Z))"
   ]
  },
  {
   "cell_type": "markdown",
   "metadata": {},
   "source": [
    "## Logistic Loss"
   ]
  },
  {
   "cell_type": "markdown",
   "metadata": {},
   "source": [
    "$$ J(\\theta) = \\frac{-1}{m}.\\displaystyle\\sum_{i=1}^{m}[y^ilog(h_\\theta(x^i)) + (1-y^i)log(1 - h_\\theta(x^i))] $$\n"
   ]
  },
  {
   "cell_type": "code",
   "execution_count": 27,
   "metadata": {},
   "outputs": [],
   "source": [
    "def logistic_loss(y,y_hat):\n",
    "    return -np.mean(y * np.log(y_hat) + (1-y) * np.log(1-y_hat))"
   ]
  },
  {
   "cell_type": "code",
   "execution_count": 28,
   "metadata": {},
   "outputs": [],
   "source": [
    "W = [0, 0, 0, 0, 0, 0]\n",
    "learning_rate = 0.001"
   ]
  },
  {
   "cell_type": "markdown",
   "metadata": {},
   "source": [
    "## Now Apply Gradient Descent"
   ]
  },
  {
   "cell_type": "markdown",
   "metadata": {},
   "source": [
    "$$ \\frac{\\mathrm d J(\\theta)}{\\mathrm d \\theta_J} = \\frac{1}{m}.X^T(g(X\\theta) - y) $$"
   ]
  },
  {
   "cell_type": "code",
   "execution_count": 29,
   "metadata": {
    "scrolled": false
   },
   "outputs": [
    {
     "name": "stdout",
     "output_type": "stream",
     "text": [
      "0.6931471805599453\n",
      "0.6092122331380037\n",
      "0.6072194925268639\n",
      "0.6054500351849592\n",
      "0.6038778233729688\n",
      "0.6024795564325264\n",
      "0.6012344764520723\n",
      "0.6001241610392303\n",
      "0.5991323126376313\n",
      "0.5982445515884415\n",
      "0.5974482179827537\n",
      "0.5967321855877019\n",
      "0.5960866897458804\n",
      "0.5955031701048236\n",
      "0.594974128278442\n",
      "0.5944930000206038\n",
      "0.5940540411513134\n",
      "0.5936522262736591\n",
      "0.5932831592180334\n",
      "0.5929429941196729\n",
      "0.5926283660535533\n",
      "0.5923363302000362\n",
      "0.5920643085827528\n",
      "0.591810043498115\n",
      "0.5915715568372366\n",
      "0.5913471145817918\n",
      "0.59113519583269\n",
      "0.590934465802843\n",
      "0.5907437522718518\n",
      "0.5905620250608631\n",
      "0.590388378140129\n",
      "0.5902220140302147\n",
      "0.5900622302007029\n",
      "0.589908407208084\n",
      "0.5897599983477683\n",
      "0.5896165206242909\n",
      "0.5894775468692302\n",
      "0.5893426988585654\n",
      "0.5892116413005487\n",
      "0.5890840765819899\n",
      "0.5889597401754861\n",
      "0.5888383966228451\n",
      "0.5887198360209922\n",
      "0.588603870946238\n",
      "0.5884903337611149\n",
      "0.5883790742552182\n",
      "0.5882699575777642\n",
      "0.5881628624250376\n",
      "0.5880576794506286\n",
      "0.5879543098704904\n",
      "0.5878526642384135\n",
      "0.5877526613706378\n",
      "0.5876542274010231\n",
      "0.5875572949505629\n",
      "0.5874618023970708\n",
      "0.5873676932326638\n",
      "0.587274915498221\n",
      "0.5871834212853512\n",
      "0.5870931662975961\n",
      "0.5870041094636202\n",
      "0.586916212596047\n",
      "0.5868294400903827\n",
      "0.5867437586591671\n",
      "0.5866591370970801\n",
      "0.5865755460732696\n",
      "0.5864929579476181\n",
      "0.5864113466080737\n",
      "0.5863306873265208\n",
      "0.5862509566309738\n",
      "0.5861721321921494\n",
      "0.5860941927227076\n",
      "0.5860171178876609\n",
      "0.585940888224632\n",
      "0.5858654850727992\n",
      "0.5857908905095122\n",
      "0.5857170872936769\n",
      "0.585644058815125\n",
      "0.5855717890492694\n",
      "0.5855002625164365\n",
      "0.5854294642453356\n",
      "0.5853593797401917\n",
      "0.5852899949511247\n",
      "0.5852212962474033\n",
      "0.5851532703932534\n",
      "0.5850859045259313\n",
      "0.5850191861358098\n",
      "0.584953103048255\n",
      "0.584887643407096\n",
      "0.5848227956595148\n",
      "0.5847585485422007\n",
      "0.5846948910686359\n",
      "0.5846318125173905\n",
      "0.5845693024213214\n",
      "0.5845073505575807\n",
      "0.5844459469383512\n",
      "0.5843850818022341\n",
      "0.5843247456062243\n",
      "0.5842649290182145\n",
      "0.5842056229099787\n",
      "0.5841468183505858\n",
      "0.5840885066002065\n",
      "0.5840306791042741\n",
      "0.5839733274879695\n",
      "0.583916443551\n",
      "0.5838600192626481\n",
      "0.5838040467570639\n",
      "0.5837485183287864\n",
      "0.5836934264284692\n",
      "0.5836387636587995\n",
      "0.5835845227705916\n",
      "0.5835306966590448\n",
      "0.5834772783601517\n",
      "0.5834242610472483\n",
      "0.5833716380276939\n",
      "0.5833194027396733\n",
      "0.5832675487491151\n",
      "0.583216069746715\n",
      "0.5831649595450615\n",
      "0.5831142120758562\n",
      "0.5830638213872233\n",
      "0.5830137816411038\n",
      "0.5829640871107306\n",
      "0.5829147321781786\n",
      "0.5828657113319881\n",
      "0.5828170191648562\n",
      "0.5827686503713937\n",
      "0.5827205997459461\n",
      "0.5826728621804729\n",
      "0.582625432662484\n",
      "0.5825783062730328\n",
      "0.5825314781847609\n",
      "0.5824849436599931\n",
      "0.5824386980488822\n",
      "0.5823927367875993\n",
      "0.5823470553965716\n",
      "0.582301649478761\n",
      "0.5822565147179868\n",
      "0.5822116468772883\n",
      "0.5821670417973276\n",
      "0.5821226953948281\n",
      "0.5820786036610528\n",
      "0.5820347626603166\n",
      "0.581991168528533\n",
      "0.5819478174717949\n",
      "0.581904705764988\n",
      "0.581861829750435\n",
      "0.5818191858365711\n",
      "0.5817767704966494\n",
      "0.5817345802674743\n",
      "0.5816926117481634\n",
      "0.5816508615989379\n",
      "0.5816093265399372\n",
      "0.5815680033500621\n",
      "0.58152688886584\n",
      "0.5814859799803185\n",
      "0.5814452736419787\n",
      "0.5814047668536754\n",
      "0.581364456671597\n",
      "0.5813243402042497\n",
      "0.5812844146114623\n",
      "0.581244677103411\n",
      "0.5812051249396664\n",
      "0.5811657554282595\n",
      "0.5811265659247673\n",
      "0.5810875538314169\n",
      "0.5810487165962092\n",
      "0.5810100517120594\n",
      "0.5809715567159565\n",
      "0.5809332291881384\n",
      "0.5808950667512853\n",
      "0.580857067069729\n",
      "0.5808192278486772\n",
      "0.5807815468334555\n",
      "0.5807440218087627\n",
      "0.5807066505979427\n",
      "0.5806694310622695\n",
      "0.5806323611002476\n",
      "0.5805954386469258\n",
      "0.5805586616732242\n",
      "0.5805220281852769\n",
      "0.5804855362237831\n",
      "0.5804491838633762\n",
      "0.5804129692120018\n",
      "0.580376890410309\n",
      "0.5803409456310537\n",
      "0.5803051330785134\n",
      "0.5802694509879135\n",
      "0.5802338976248648\n",
      "0.5801984712848113\n",
      "0.5801631702924898\n",
      "0.5801279930013986\n",
      "0.5800929377932781\n",
      "0.5800580030775992\n",
      "0.580023187291064\n",
      "0.5799884888971136\n",
      "0.5799539063854475\n",
      "0.5799194382715505\n",
      "0.5798850830962298\n",
      "0.5798508394251595\n",
      "0.5798167058484359\n",
      "0.5797826809801387\n",
      "0.5797487634579027\n",
      "0.5797149519424959\n",
      "0.5796812451174064\n",
      "0.5796476416884372\n",
      "0.5796141403833078\n",
      "0.5795807399512649\n",
      "0.5795474391626977\n",
      "0.5795142368087629\n",
      "0.579481131701016\n",
      "0.5794481226710487\n",
      "0.5794152085701332\n",
      "0.5793823882688746\n",
      "0.5793496606568677\n",
      "0.5793170246423615\n",
      "0.5792844791519289\n",
      "0.5792520231301441\n",
      "0.5792196555392641\n",
      "0.5791873753589168\n",
      "0.5791551815857956\n",
      "0.5791230732333585\n",
      "0.5790910493315333\n",
      "0.5790591089264278\n",
      "0.5790272510800458\n",
      "0.5789954748700081\n",
      "0.5789637793892785\n",
      "0.5789321637458944\n",
      "0.5789006270627035\n",
      "0.5788691684771041\n",
      "0.5788377871407908\n",
      "0.578806482219504\n",
      "0.5787752528927851\n",
      "0.5787440983537356\n",
      "0.5787130178087799\n",
      "0.578682010477434\n",
      "0.5786510755920758\n",
      "0.5786202123977231\n",
      "0.5785894201518119\n",
      "0.5785586981239814\n",
      "0.5785280455958618\n",
      "0.5784974618608651\n",
      "0.5784669462239822\n",
      "0.5784364980015803\n",
      "0.5784061165212065\n",
      "0.578375801121394\n",
      "0.5783455511514718\n",
      "0.5783153659713774\n",
      "0.5782852449514737\n",
      "0.5782551874723688\n",
      "0.5782251929247383\n",
      "0.5781952607091517\n",
      "0.5781653902359022\n",
      "0.5781355809248381\n",
      "0.5781058322051982\n",
      "0.5780761435154501\n",
      "0.5780465143031311\n",
      "0.5780169440246923\n",
      "0.5779874321453445\n",
      "0.5779579781389083\n",
      "0.5779285814876655\n",
      "0.577899241682214\n",
      "0.5778699582213247\n",
      "0.5778407306118016\n",
      "0.5778115583683436\n",
      "0.5777824410134089\n",
      "0.5777533780770827\n",
      "0.5777243690969456\n",
      "0.5776954136179459\n",
      "0.5776665111922731\n",
      "0.5776376613792342\n",
      "0.5776088637451321\n",
      "0.5775801178631451\n",
      "0.5775514233132107\n",
      "0.5775227796819093\n",
      "0.577494186562351\n",
      "0.577465643554064\n",
      "0.5774371502628856\n",
      "0.5774087063008538\n",
      "0.5773803112861026\n",
      "0.5773519648427573\n",
      "0.577323666600833\n",
      "0.577295416196134\n",
      "0.5772672132701556\n",
      "0.5772390574699869\n",
      "0.5772109484482164\n",
      "0.5771828858628378\n",
      "0.5771548693771582\n",
      "0.5771268986597087\n",
      "0.577098973384155\n",
      "0.5770710932292101\n",
      "0.5770432578785497\n",
      "0.577015467020727\n",
      "0.5769877203490906\n",
      "0.5769600175617031\n",
      "0.5769323583612616\n",
      "0.5769047424550187\n",
      "0.5768771695547056\n",
      "0.5768496393764567\n",
      "0.5768221516407355\n",
      "0.5767947060722594\n",
      "0.5767673023999308\n",
      "0.5767399403567642\n",
      "0.5767126196798176\n",
      "0.5766853401101243\n",
      "0.5766581013926256\n",
      "0.5766309032761056\n",
      "0.576603745513125\n",
      "0.576576627859959\n",
      "0.5765495500765342\n",
      "0.5765225119263665\n",
      "0.5764955131765015\n",
      "0.5764685535974552\n",
      "0.5764416329631548\n",
      "0.5764147510508818\n",
      "0.5763879076412163\n",
      "0.5763611025179803\n",
      "0.5763343354681845\n",
      "0.5763076062819739\n",
      "0.5762809147525754\n",
      "0.5762542606762467\n",
      "0.5762276438522248\n",
      "0.5762010640826762\n",
      "0.5761745211726482\n",
      "0.5761480149300199\n",
      "0.5761215451654557\n",
      "0.576095111692358\n",
      "0.5760687143268219\n",
      "0.5760423528875896\n",
      "0.5760160271960069\n",
      "0.5759897370759787\n",
      "0.575963482353927\n",
      "0.5759372628587492\n",
      "0.5759110784217758\n",
      "0.5758849288767299\n",
      "0.5758588140596885\n",
      "0.5758327338090418\n",
      "0.5758066879654554\n",
      "0.5757806763718325\n",
      "0.575754698873276\n",
      "0.5757287553170525\n",
      "0.575702845552556\n",
      "0.5756769694312726\n",
      "0.5756511268067456\n",
      "0.5756253175345414\n",
      "0.5755995414722159\n",
      "0.5755737984792813\n",
      "0.575548088417174\n",
      "0.575522411149222\n",
      "0.5754967665406143\n",
      "0.5754711544583692\n",
      "0.5754455747713051\n",
      "0.5754200273500095\n",
      "0.5753945120668098\n",
      "0.5753690287957459\n",
      "0.5753435774125398\n",
      "0.5753181577945697\n",
      "0.575292769820841\n",
      "0.5752674133719605\n",
      "0.5752420883301093\n",
      "0.5752167945790171\n",
      "0.5751915320039366\n",
      "0.5751663004916184\n",
      "0.5751410999302862\n",
      "0.5751159302096122\n",
      "0.5750907912206941\n",
      "0.5750656828560304\n",
      "0.5750406050094986\n",
      "0.5750155575763315\n",
      "0.5749905404530952\n",
      "0.5749655535376673\n",
      "0.5749405967292155\n",
      "0.574915669928176\n",
      "0.5748907730362328\n",
      "0.5748659059562972\n",
      "0.5748410685924877\n",
      "0.5748162608501102\n",
      "0.5747914826356386\n",
      "0.5747667338566955\n",
      "0.5747420144220333\n",
      "0.5747173242415161\n",
      "0.5746926632261009\n",
      "0.5746680312878204\n",
      "0.5746434283397649\n",
      "0.5746188542960651\n",
      "0.5745943090718755\n",
      "0.5745697925833568\n",
      "0.5745453047476606\n",
      "0.5745208454829124\n",
      "0.574496414708196\n",
      "0.5744720123435378\n",
      "0.5744476383098919\n",
      "0.5744232925291239\n",
      "0.5743989749239976\n",
      "0.574374685418159\n",
      "0.5743504239361227\n",
      "0.5743261904032576\n",
      "0.5743019847457731\n",
      "0.5742778068907055\n",
      "0.574253656765904\n",
      "0.5742295343000187\n",
      "0.5742054394224864\n",
      "0.5741813720635187\n",
      "0.5741573321540889\n",
      "0.5741333196259202\n",
      "0.5741093344114733\n",
      "0.5740853764439339\n",
      "0.5740614456572025\n",
      "0.5740375419858813\n",
      "0.574013665365264\n",
      "0.5739898157313235\n",
      "0.5739659930207024\n",
      "0.573942197170701\n",
      "0.5739184281192675\n",
      "0.573894685804987\n",
      "0.5738709701670717\n",
      "0.5738472811453507\n",
      "0.5738236186802594\n",
      "0.573799982712832\n",
      "0.5737763731846887\n",
      "0.5737527900380288\n",
      "0.5737292332156205\n",
      "0.5737057026607921\n",
      "0.5736821983174224\n",
      "0.5736587201299326\n",
      "0.5736352680432774\n",
      "0.5736118420029366\n",
      "0.5735884419549064\n",
      "0.5735650678456918\n",
      "0.5735417196222979\n",
      "0.5735183972322221\n",
      "0.5734951006234463\n",
      "0.5734718297444297\n",
      "0.5734485845441001\n",
      "0.5734253649718479\n",
      "0.5734021709775177\n",
      "0.5733790025114014\n"
     ]
    },
    {
     "name": "stdout",
     "output_type": "stream",
     "text": [
      "0.5733558595242312\n",
      "0.5733327419671729\n",
      "0.5733096497918185\n",
      "0.57328658295018\n",
      "0.5732635413946824\n",
      "0.5732405250781574\n",
      "0.5732175339538371\n",
      "0.5731945679753474\n",
      "0.5731716270967023\n",
      "0.573148711272297\n",
      "0.573125820456903\n",
      "0.5731029546056612\n",
      "0.5730801136740771\n",
      "0.573057297618014\n",
      "0.5730345063936886\n",
      "0.5730117399576642\n",
      "0.5729889982668468\n",
      "0.5729662812784784\n",
      "0.5729435889501326\n",
      "0.5729209212397092\n",
      "0.572898278105429\n",
      "0.5728756595058291\n",
      "0.5728530653997579\n",
      "0.5728304957463702\n",
      "0.5728079505051228\n",
      "0.5727854296357692\n",
      "0.5727629330983558\n",
      "0.5727404608532165\n",
      "0.5727180128609696\n",
      "0.5726955890825121\n",
      "0.5726731894790159\n",
      "0.5726508140119239\n",
      "0.5726284626429458\n",
      "0.5726061353340535\n",
      "0.5725838320474775\n",
      "0.5725615527457032\n",
      "0.5725392973914665\n",
      "0.5725170659477504\n",
      "0.5724948583777808\n",
      "0.5724726746450237\n",
      "0.5724505147131803\n",
      "0.5724283785461847\n",
      "0.5724062661081994\n",
      "0.5723841773636129\n",
      "0.572362112277035\n",
      "0.5723400708132947\n",
      "0.572318052937436\n",
      "0.5722960586147156\n",
      "0.5722740878105984\n",
      "0.572252140490756\n",
      "0.5722302166210625\n",
      "0.5722083161675919\n",
      "0.5721864390966148\n",
      "0.572164585374596\n",
      "0.5721427549681913\n",
      "0.5721209478442447\n",
      "0.5720991639697858\n",
      "0.5720774033120266\n",
      "0.5720556658383597\n",
      "0.5720339515163547\n",
      "0.5720122603137562\n",
      "0.571990592198481\n",
      "0.5719689471386159\n",
      "0.5719473251024146\n"
     ]
    }
   ],
   "source": [
    "m = len(y_train)\n",
    "\n",
    "for epoch in range(50000):\n",
    "    Z = np.matmul(X_train,W)\n",
    "    A = sigmoid(Z)\n",
    "    loss = logistic_loss(y_train,A)\n",
    "    dz = A - y_train\n",
    "    dw = 1/m * np.matmul(X_train.T,dz)\n",
    "    db = np.sum(dz)\n",
    "    \n",
    "    W = W - learning_rate*dw\n",
    "    \n",
    "    if epoch%100==0:\n",
    "        print(loss)"
   ]
  },
  {
   "cell_type": "markdown",
   "metadata": {},
   "source": [
    "## Prediction"
   ]
  },
  {
   "cell_type": "code",
   "execution_count": 30,
   "metadata": {},
   "outputs": [],
   "source": [
    "preds = []\n",
    "for i in sigmoid(Z):\n",
    "    if i > 0.5:\n",
    "        preds.append(1)\n",
    "    else:\n",
    "        preds.append(0)"
   ]
  },
  {
   "cell_type": "code",
   "execution_count": 31,
   "metadata": {},
   "outputs": [],
   "source": [
    "from sklearn.metrics import accuracy_score"
   ]
  },
  {
   "cell_type": "code",
   "execution_count": 32,
   "metadata": {},
   "outputs": [
    {
     "name": "stdout",
     "output_type": "stream",
     "text": [
      "72.03007518796993\n"
     ]
    }
   ],
   "source": [
    "print(accuracy_score(y_train,preds)*100)"
   ]
  },
  {
   "cell_type": "code",
   "execution_count": null,
   "metadata": {},
   "outputs": [],
   "source": []
  }
 ],
 "metadata": {
  "kernelspec": {
   "display_name": "Python 3",
   "language": "python",
   "name": "python3"
  },
  "language_info": {
   "codemirror_mode": {
    "name": "ipython",
    "version": 3
   },
   "file_extension": ".py",
   "mimetype": "text/x-python",
   "name": "python",
   "nbconvert_exporter": "python",
   "pygments_lexer": "ipython3",
   "version": "3.7.0"
  }
 },
 "nbformat": 4,
 "nbformat_minor": 2
}
